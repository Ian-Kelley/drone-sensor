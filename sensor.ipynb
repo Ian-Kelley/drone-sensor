{
 "cells": [
  {
   "cell_type": "code",
   "execution_count": 1,
   "id": "minimal-tender",
   "metadata": {
    "scrolled": false
   },
   "outputs": [],
   "source": [
    "#run this cell only once at the beginning of measurments\n",
    "#import relavent python packages\n",
    "import numpy as np\n",
    "import matplotlib.pyplot as plt\n",
    "import seabreeze\n",
    "import pandas as pd\n",
    "\n",
    "#import spectrometer\n",
    "from seabreeze.spectrometers import Spectrometer\n",
    "spec = Spectrometer.from_first_available()"
   ]
  },
  {
   "cell_type": "code",
   "execution_count": 232,
   "id": "pleasant-handle",
   "metadata": {},
   "outputs": [],
   "source": [
    "#run this every time you want to take a background sample, \n",
    "#integration time should be on the order of 1-10 seconds, make sure the actual measurment time matches this\n",
    "\n",
    "int_time = 2000000\n",
    "spec.integration_time_micros(int_time)\n",
    "wavelength = spec.wavelengths()\n",
    "background = spec.intensities()"
   ]
  },
  {
   "cell_type": "code",
   "execution_count": 233,
   "id": "academic-latest",
   "metadata": {
    "scrolled": false
   },
   "outputs": [
    {
     "data": {
      "text/plain": [
       "<Figure size 576x288 with 0 Axes>"
      ]
     },
     "execution_count": 233,
     "metadata": {},
     "output_type": "execute_result"
    },
    {
     "data": {
      "image/png": "[encoded data removed]",
      "text/plain": [
       "<Figure size 432x288 with 1 Axes>"
      ]
     },
     "metadata": {
      "needs_background": "light"
     },
     "output_type": "display_data"
    },
    {
     "data": {
      "text/plain": [
       "<Figure size 576x288 with 0 Axes>"
      ]
     },
     "metadata": {},
     "output_type": "display_data"
    }
   ],
   "source": [
    "#this should be run once the laser is turned on, it will show a plot of the raw values, as well as data processing\n",
    "spec.integration_time_micros(int_time)\n",
    "intensity = spec.intensities() \n",
    "df = pd.DataFrame({'wavelength' : wavelength, 'background' : background, 'intensity' : intensity})\n",
    "df['difference'] = df.intensity - df.background\n",
    "df['rolling'] = df.difference.rolling(11, min_periods = 1, center = True).mean()\n",
    "\n",
    "df = df.where(425 < df.wavelength) \n",
    "df = df.where(df.wavelength < 725)\n",
    "\n",
    "\n",
    "#plotting commands in matplotlib\n",
    "plt.plot(df.wavelength, df.background, c='red')\n",
    "plt.plot(df.wavelength, df.intensity, c='blue')\n",
    "#plt.plot(df.wavelength, df.difference, c='green')\n",
    "plt.plot(df.wavelength, df['rolling'], c='green')\n",
    "plt.title(\"spectrum\")\n",
    "plt.ylim(0, 60000)\n",
    "plt.xlabel('wavelength, nm')\n",
    "plt.ylabel('intensity, counts')\n",
    "plt.grid()\n",
    "plt.figure(figsize=(8, 4)) \n"
   ]
  },
  {
   "cell_type": "code",
   "execution_count": 2,
   "id": "major-interim",
   "metadata": {
    "scrolled": false
   },
   "outputs": [
    {
     "ename": "NameError",
     "evalue": "name 'df' is not defined",
     "output_type": "error",
     "traceback": [
      "\u001b[0;31m---------------------------------------------------------------------------\u001b[0m",
      "\u001b[0;31mNameError\u001b[0m                                 Traceback (most recent call last)",
      "\u001b[0;32m<ipython-input-2-8e5e6b6971f0>\u001b[0m in \u001b[0;36m<module>\u001b[0;34m\u001b[0m\n\u001b[0;32m----> 1\u001b[0;31m \u001b[0mdf\u001b[0m\u001b[0;34m[\u001b[0m\u001b[0;34m'baseline'\u001b[0m\u001b[0;34m]\u001b[0m \u001b[0;34m=\u001b[0m \u001b[0mdf\u001b[0m\u001b[0;34m.\u001b[0m\u001b[0mdifference\u001b[0m\u001b[0;34m.\u001b[0m\u001b[0mrolling\u001b[0m\u001b[0;34m(\u001b[0m\u001b[0;36m800\u001b[0m\u001b[0;34m,\u001b[0m \u001b[0mmin_periods\u001b[0m \u001b[0;34m=\u001b[0m \u001b[0;36m1\u001b[0m\u001b[0;34m,\u001b[0m \u001b[0mcenter\u001b[0m \u001b[0;34m=\u001b[0m \u001b[0;32mTrue\u001b[0m\u001b[0;34m)\u001b[0m\u001b[0;34m.\u001b[0m\u001b[0mmean\u001b[0m\u001b[0;34m(\u001b[0m\u001b[0;34m)\u001b[0m\u001b[0;34m\u001b[0m\u001b[0;34m\u001b[0m\u001b[0m\n\u001b[0m\u001b[1;32m      2\u001b[0m \u001b[0;34m\u001b[0m\u001b[0m\n\u001b[1;32m      3\u001b[0m \u001b[0mhigh\u001b[0m \u001b[0;34m=\u001b[0m \u001b[0mdf\u001b[0m\u001b[0;34m.\u001b[0m\u001b[0mwhere\u001b[0m\u001b[0;34m(\u001b[0m\u001b[0;36m650\u001b[0m \u001b[0;34m<\u001b[0m \u001b[0mdf\u001b[0m\u001b[0;34m.\u001b[0m\u001b[0mwavelength\u001b[0m\u001b[0;34m)\u001b[0m\u001b[0;34m\u001b[0m\u001b[0;34m\u001b[0m\u001b[0m\n\u001b[1;32m      4\u001b[0m \u001b[0mhigh\u001b[0m \u001b[0;34m=\u001b[0m \u001b[0mhigh\u001b[0m\u001b[0;34m.\u001b[0m\u001b[0mwhere\u001b[0m\u001b[0;34m(\u001b[0m\u001b[0mhigh\u001b[0m\u001b[0;34m.\u001b[0m\u001b[0mwavelength\u001b[0m \u001b[0;34m<\u001b[0m \u001b[0;36m700\u001b[0m\u001b[0;34m)\u001b[0m\u001b[0;34m\u001b[0m\u001b[0;34m\u001b[0m\u001b[0m\n\u001b[1;32m      5\u001b[0m \u001b[0mhigh\u001b[0m \u001b[0;34m=\u001b[0m \u001b[0mhigh\u001b[0m\u001b[0;34m.\u001b[0m\u001b[0mdropna\u001b[0m\u001b[0;34m(\u001b[0m\u001b[0;34m)\u001b[0m\u001b[0;34m\u001b[0m\u001b[0;34m\u001b[0m\u001b[0m\n",
      "\u001b[0;31mNameError\u001b[0m: name 'df' is not defined"
     ]
    }
   ],
   "source": [
    "df['baseline'] = df.difference.rolling(800, min_periods = 1, center = True).mean()\n",
    "\n",
    "high = df.where(650 < df.wavelength) \n",
    "high = high.where(high.wavelength < 700)\n",
    "high = high.dropna()\n",
    "\n",
    "low = df.where(510 < df.wavelength) \n",
    "low = low.where(low.wavelength < 540)\n",
    "low = low.dropna()\n",
    "\n",
    "\n",
    "plt.plot(low['wavelength'], low['baseline'], ':', c='red')\n",
    "plt.plot(wavelength, df['rolling'], c='green')\n",
    "plt.title(\"Spectrum of Duck Pond Water Sample\")\n",
    "plt.ylim(-100, 7000)\n",
    "plt.xlabel('Wavelength, nm')\n",
    "plt.ylabel('Intensity, counts')\n",
    "plt.grid()\n",
    "plt.figure(figsize=(1, 1)) \n",
    "\n",
    "\n",
    "\n",
    "print('flourescense peak at: ' + str(max(high['rolling'])))\n",
    "print('raman peak at: ' + str(max(low['rolling'])))\n",
    "print(\"baseline of raman set to \" + str(df['baseline'].loc[min(low.index)]))\n",
    "\n",
    "print('raman above baseline by ' + str(max(high['rolling']) / (max(low['rolling']) - df['baseline'].loc[min(low.index)])))\n",
    "#print(df.loc[min(low.index)])\n",
    "print('ratio of peaks is: ' + str(max(high['rolling']) / max(low['rolling'])))\n"
   ]
  },
  {
   "cell_type": "code",
   "execution_count": null,
   "id": "forty-donna",
   "metadata": {},
   "outputs": [],
   "source": [
    "\n",
    "\"\"\"\n",
    "slope=(df['rolling'].loc[max(high.index)]-df['rolling'].loc[min(high.index)])/(max(high.index)-min(high.index))\n",
    "intercept=df['rolling'].loc[min(high.index)]\n",
    "expected=slope*35+intercept\n",
    "exp=max(high['rolling'])-expected\n",
    "print(exp)\n",
    "\n",
    "slope=(df['rolling'].loc[max(low.index)]-df['rolling'].loc[min(low.index)])/(max(low.index)-min(low.index))\n",
    "intercept=df['rolling'].loc[min(low.index)]\n",
    "expected=slope*5+intercept\n",
    "exp2=max(low['rolling'])-expected\n",
    "print(exp2)\n",
    "\"\"\""
   ]
  },
  {
   "cell_type": "code",
   "execution_count": null,
   "id": "protective-shell",
   "metadata": {},
   "outputs": [],
   "source": [
    "import numpy as np\n",
    "import matplotlib.pyplot as plt\n",
    "import matplotlib.colors\n",
    "\n",
    "\n",
    "def wavelength_to_rgb(wavelength, gamma=0.8):\n",
    "    ''' taken from http://www.noah.org/wiki/Wavelength_to_RGB_in_Python\n",
    "    This converts a given wavelength of light to an \n",
    "    approximate RGB color value. The wavelength must be given\n",
    "    in nanometers in the range from 380 nm through 750 nm\n",
    "    (789 THz through 400 THz).\n",
    "\n",
    "    Based on code by Dan Bruton\n",
    "    http://www.physics.sfasu.edu/astro/color/spectra.html\n",
    "    Additionally alpha value set to 0.5 outside range\n",
    "    '''\n",
    "    wavelength = float(wavelength)\n",
    "    if wavelength >= 380 and wavelength <= 750:\n",
    "        A = 1.\n",
    "    else:\n",
    "        A=0.5\n",
    "    if wavelength < 380:\n",
    "        wavelength = 380.\n",
    "    if wavelength >750:\n",
    "        wavelength = 750.\n",
    "    if wavelength >= 380 and wavelength <= 440:\n",
    "        attenuation = 0.3 + 0.7 * (wavelength - 380) / (440 - 380)\n",
    "        R = ((-(wavelength - 440) / (440 - 380)) * attenuation) ** gamma\n",
    "        G = 0.0\n",
    "        B = (1.0 * attenuation) ** gamma\n",
    "    elif wavelength >= 440 and wavelength <= 490:\n",
    "        R = 0.0\n",
    "        G = ((wavelength - 440) / (490 - 440)) ** gamma\n",
    "        B = 1.0\n",
    "    elif wavelength >= 490 and wavelength <= 510:\n",
    "        R = 0.0\n",
    "        G = 1.0\n",
    "        B = (-(wavelength - 510) / (510 - 490)) ** gamma\n",
    "    elif wavelength >= 510 and wavelength <= 580:\n",
    "        R = ((wavelength - 510) / (580 - 510)) ** gamma\n",
    "        G = 1.0\n",
    "        B = 0.0\n",
    "    elif wavelength >= 580 and wavelength <= 645:\n",
    "        R = 1.0\n",
    "        G = (-(wavelength - 645) / (645 - 580)) ** gamma\n",
    "        B = 0.0\n",
    "    elif wavelength >= 645 and wavelength <= 750:\n",
    "        attenuation = 0.3 + 0.7 * (750 - wavelength) / (750 - 645)\n",
    "        R = (1.0 * attenuation) ** gamma\n",
    "        G = 0.0\n",
    "        B = 0.0\n",
    "    else:\n",
    "        R = 0.0\n",
    "        G = 0.0\n",
    "        B = 0.0\n",
    "    return (R,G,B,A)\n",
    "\n",
    "clim=(350,780)\n",
    "norm = plt.Normalize(*clim)\n",
    "wl = np.arange(clim[0],clim[1]+1,2)\n",
    "colorlist = list(zip(norm(wl),[wavelength_to_rgb(w) for w in wl]))\n",
    "spectralmap = matplotlib.colors.LinearSegmentedColormap.from_list(\"spectrum\", colorlist)\n",
    "\n",
    "fig, axs = plt.subplots(1, 1, figsize=(8,4), tight_layout=True)\n",
    "wavelengths = wavelength\n",
    "spectrum = df['rolling']\n",
    "plt.plot(wavelengths, spectrum, color='darkred')\n",
    "\n",
    "y = np.linspace(0, 6, 100)\n",
    "X,Y = np.meshgrid(wavelengths, spectrum)\n",
    "\n",
    "extent=(np.min(wavelengths), np.max(wavelengths), np.min(y), 40000)\n",
    "\n",
    "plt.imshow(X, clim=clim,  extent=extent, cmap=spectralmap, aspect='auto')\n",
    "plt.xlabel('Wavelength (nm)')\n",
    "plt.ylabel('Intensity')"
   ]
  },
  {
   "cell_type": "code",
   "execution_count": null,
   "id": "objective-tulsa",
   "metadata": {},
   "outputs": [],
   "source": []
  },
  {
   "cell_type": "code",
   "execution_count": null,
   "id": "acceptable-dealing",
   "metadata": {},
   "outputs": [],
   "source": []
  },
  {
   "cell_type": "code",
   "execution_count": null,
   "id": "confirmed-remove",
   "metadata": {},
   "outputs": [],
   "source": []
  },
  {
   "cell_type": "code",
   "execution_count": null,
   "id": "automatic-glasgow",
   "metadata": {},
   "outputs": [],
   "source": []
  }
 ],
 "metadata": {
  "kernelspec": {
   "display_name": "Python 3",
   "language": "python",
   "name": "python3"
  },
  "language_info": {
   "codemirror_mode": {
    "name": "ipython",
    "version": 3
   },
   "file_extension": ".py",
   "mimetype": "text/x-python",
   "name": "python",
   "nbconvert_exporter": "python",
   "pygments_lexer": "ipython3",
   "version": "3.7.3"
  }
 },
 "nbformat": 4,
 "nbformat_minor": 5
}
